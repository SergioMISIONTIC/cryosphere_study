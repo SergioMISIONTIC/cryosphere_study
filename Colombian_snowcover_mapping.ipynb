{
 "cells": [
  {
   "cell_type": "markdown",
   "metadata": {},
   "source": [
    "# Snow cover mapping of Colombian glaciers"
   ]
  },
  {
   "cell_type": "markdown",
   "metadata": {},
   "source": [
    "## NDSI calculation and exporting"
   ]
  },
  {
   "cell_type": "code",
   "execution_count": 1,
   "metadata": {},
   "outputs": [],
   "source": [
    "#Import Earth Engine library and initialize\n",
    "import ee\n",
    "ee.Authenticate(auth_mode=\"notebook\")\n",
    "ee.Initialize()"
   ]
  },
  {
   "cell_type": "code",
   "execution_count": 2,
   "metadata": {},
   "outputs": [],
   "source": [
    "#Load regions glacier points and apply a buffer to define the area of interest\n",
    "\n",
    "gpoints = ee.FeatureCollection(\"users/sergioingeo/glacier/colombian_glaciers\") #Change this with you glacier points of interest\n",
    "\n",
    "points = ee.Geometry.MultiPoint(gpoints.geometry().coordinates())\n",
    "\n",
    "aoi = points.buffer(30000)\n",
    "\n",
    "#Load landsat collections\n",
    "l9 = ee.ImageCollection(\"LANDSAT/LC09/C02/T1_L2\").filterBounds(aoi).filterDate(\"2021-01-01\", \"2023-12-31\")\n",
    "\n",
    "l8 = ee.ImageCollection(\"LANDSAT/LC08/C02/T1_L2\").filterBounds(aoi).filterDate(\"2021-01-01\", \"2023-12-31\")\n",
    "\n",
    "l7 = ee.ImageCollection(\"LANDSAT/LE07/C02/T1_L2\").filterBounds(aoi).filterDate(\"2002-01-01\", \"2004-12-31\")\n",
    "\n",
    "l5 = ee.ImageCollection(\"LANDSAT/LT05/C02/T1_L2\").filterBounds(aoi).filterDate(\"1985-01-01\", \"1987-12-31\")\n",
    "\n",
    "#Load elevation data\n",
    "COPDEM30 = ee.ImageCollection(\"COPERNICUS/DEM/GLO30\").select(\"DEM\").reduce(ee.Reducer.mean()).clip(aoi)"
   ]
  },
  {
   "cell_type": "code",
   "execution_count": 3,
   "metadata": {},
   "outputs": [],
   "source": [
    "#Create functions to mask clouds, and add snow index as bands\n",
    "\n",
    "def maskClouds(image):\n",
    "    cloudShadowBitMask = ee.Number(2).pow(3).int()\n",
    "    cloudBitMask = ee.Number(2).pow(4).int()\n",
    "    #Select the QA band\n",
    "    qa = image.select(\"QA_PIXEL\")\n",
    "    mask = qa.bitwiseAnd(cloudShadowBitMask).eq(0).And(qa.bitwiseAnd(cloudBitMask).eq(0))\n",
    "    \n",
    "    return image.updateMask(mask).copyProperties(image, [\"system:time_start\"])\n",
    "\n",
    "def addsnowindexl57(image):\n",
    "    NDSI = image.normalizedDifference([\"SR_B2\", \"SR_B5\"]).rename(\"NDSI\")\n",
    "    return image.addBands(NDSI)\n",
    "                          \n",
    "def addsnowindexl9(image):\n",
    "    NDSI = image.normalizedDifference([\"SR_B3\", \"SR_B6\"]).rename(\"NDSI\")\n",
    "    return image.addBands(NDSI)\n",
    "\n",
    "def applyScaleFactor(image):\n",
    "    opticalBands = image.select('SR_B.').multiply(0.0000275).add(-0.2)\n",
    "    return image.addBands(srcImg = opticalBands, overwrite = True)"
   ]
  },
  {
   "cell_type": "code",
   "execution_count": 4,
   "metadata": {},
   "outputs": [],
   "source": [
    "#Apply filters and masks\n",
    "\n",
    "landsat9 = l9.map(applyScaleFactor).map(maskClouds).map(addsnowindexl9)\n",
    "\n",
    "landsat8 = l8.map(applyScaleFactor).map(maskClouds).map(addsnowindexl9)\n",
    "\n",
    "#Join landsat 9 and 8 collections\n",
    "landsat89 = landsat9.merge(landsat8)\n",
    "\n",
    "landsat7 = l7.map(applyScaleFactor).map(maskClouds).map(addsnowindexl57)\n",
    "\n",
    "landsat5 = l5.map(applyScaleFactor).map(maskClouds).map(addsnowindexl57)\n",
    "\n",
    "#Composite the landsat imagery and apply elevation mask\n",
    "\n",
    "elevationmask = COPDEM30.gt(3800)\n",
    "\n",
    "composite2022 = landsat89.median().clip(aoi).updateMask(elevationmask)\n",
    "\n",
    "composite2003 = landsat7.median().clip(aoi).updateMask(elevationmask)\n",
    "\n",
    "composite1986 = landsat5.median().clip(aoi).updateMask(elevationmask)\n"
   ]
  },
  {
   "cell_type": "code",
   "execution_count": 6,
   "metadata": {},
   "outputs": [],
   "source": [
    "#Select the NDSI bands for exporting\n",
    "\n",
    "NDSI2022 = composite2022.select(\"NDSI\")\n",
    "\n",
    "NDSI2003 = composite2003.select(\"NDSI\")\n",
    "\n",
    "NDSI1986 = composite1986.select(\"NDSI\")\n",
    "\n",
    "NDSILIST = [NDSI2022, NDSI2003, NDSI1986]\n",
    "\n",
    "yearlist = [2022, 2003, 1986]"
   ]
  },
  {
   "cell_type": "code",
   "execution_count": 45,
   "metadata": {},
   "outputs": [],
   "source": [
    "#Create an exporting task to export all results to Google Drive\n",
    "yearindex = 0\n",
    "for img in NDSILIST:\n",
    "    task = ee.batch.Export.image.toDrive(\n",
    "        image=img,\n",
    "        region=aoi,\n",
    "        description=f\"NDSI_{yearlist[yearindex]}\",\n",
    "        scale=30,\n",
    "        maxPixels=1e13,\n",
    "        )\n",
    "    task.start()\n",
    "    yearindex += 1 "
   ]
  },
  {
   "cell_type": "markdown",
   "metadata": {},
   "source": [
    "## Snow cover mapping"
   ]
  },
  {
   "cell_type": "code",
   "execution_count": 11,
   "metadata": {},
   "outputs": [],
   "source": [
    "# Use the NDSI threshold of 0.55 to select snow pixels\n",
    "\n",
    "snow_pixels_2022 = NDSI2022.gt(0.55)\n",
    "\n",
    "snow_pixels_2022  = snow_pixels_2022.updateMask(snow_pixels_2022)\n",
    "\n",
    "snow_pixels_2003 = NDSI2003.gt(0.55)\n",
    "\n",
    "snow_pixels_2003  = snow_pixels_2003.updateMask(snow_pixels_2003)\n",
    "\n",
    "snow_pixels_1986 = NDSI1986.gt(0.55)\n",
    "\n",
    "snow_pixels_1986  = snow_pixels_1986.updateMask(snow_pixels_1986)\n",
    "\n",
    "snowcoverlist = [snow_pixels_2022, snow_pixels_2003, snow_pixels_1986]"
   ]
  },
  {
   "cell_type": "code",
   "execution_count": null,
   "metadata": {},
   "outputs": [],
   "source": [
    "#Create an exporting task to export all results to Google Drive\n",
    "yearindex = 0\n",
    "for snowcover in snowcoverlist:\n",
    "    task = ee.batch.Export.image.toDrive(\n",
    "        image=snowcover,\n",
    "        region=aoi,\n",
    "        description=f\"SNOWCOVER_{yearlist[yearindex]}\",\n",
    "        scale=30,\n",
    "        maxPixels=1e13,\n",
    "        )\n",
    "    task.start()\n",
    "    yearindex += 1 "
   ]
  }
 ],
 "metadata": {
  "kernelspec": {
   "display_name": "Python 3 (ipykernel)",
   "language": "python",
   "name": "python3"
  },
  "language_info": {
   "file_extension": ".py",
   "name": "python",
   "version": "3"
  }
 },
 "nbformat": 4,
 "nbformat_minor": 4
}
